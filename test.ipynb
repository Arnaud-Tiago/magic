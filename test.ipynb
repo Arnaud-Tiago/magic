{
 "cells": [
  {
   "cell_type": "code",
   "execution_count": 4,
   "metadata": {},
   "outputs": [],
   "source": [
    "import pandas as pd\n",
    "import numpy as np\n",
    "import streamlit as st\n",
    "from scipy.stats import hypergeom\n",
    "\n",
    "M = 100\n",
    "\n",
    "n = 42\n",
    "\n",
    "if n > M :\n",
    "    print(f\"Tu dois faire un erreur, je doute serieusement qu'il te reste {n} cartes cible si ton deck n'a plus que {M} cartes\")\n",
    "nn = min (M,n)\n",
    "\n",
    "N = 7\n",
    "\n",
    "if N > M :\n",
    "    print(f\"Attention, tu as de serieuses chances de perdre si tu pioches {N} cartes et que ton deck n'a plus que {M} cartes\")\n",
    "NN = min (M,N)\n",
    "    \n",
    "x = np.arange(0, NN+1)\n",
    "hypergeom_law = hypergeom(M,n,N)\n",
    "\n",
    "pmf = hypergeom_law.pmf(x)\n",
    "cmf = np.cumsum(pmf)"
   ]
  },
  {
   "cell_type": "code",
   "execution_count": 7,
   "metadata": {},
   "outputs": [
    {
     "data": {
      "image/png": "[encoded data removed]",
      "text/plain": [
       "<Figure size 640x480 with 1 Axes>"
      ]
     },
     "metadata": {},
     "output_type": "display_data"
    }
   ],
   "source": [
    "import matplotlib.pyplot as plt\n",
    "\n",
    "plt.plot(pmf);"
   ]
  },
  {
   "cell_type": "code",
   "execution_count": 10,
   "metadata": {},
   "outputs": [],
   "source": [
    "hypergeom_dict = {\n",
    "    'Nombre de cartes cibles piochées':x,\n",
    "    'Probabilité de piocher exacteemnt ce nombre':pmf,\n",
    "    'Probabilité de piocher au moins ce nombre':cmf\n",
    "}"
   ]
  },
  {
   "cell_type": "code",
   "execution_count": 13,
   "metadata": {},
   "outputs": [
    {
     "data": {
      "text/html": [
       "<div>\n",
       "<style scoped>\n",
       "    .dataframe tbody tr th:only-of-type {\n",
       "        vertical-align: middle;\n",
       "    }\n",
       "\n",
       "    .dataframe tbody tr th {\n",
       "        vertical-align: top;\n",
       "    }\n",
       "\n",
       "    .dataframe thead th {\n",
       "        text-align: right;\n",
       "    }\n",
       "</style>\n",
       "<table border=\"1\" class=\"dataframe\">\n",
       "  <thead>\n",
       "    <tr style=\"text-align: right;\">\n",
       "      <th></th>\n",
       "      <th>Probabilité de piocher exacteemnt ce nombre</th>\n",
       "      <th>Probabilité de piocher au moins ce nombre</th>\n",
       "    </tr>\n",
       "    <tr>\n",
       "      <th>Nombre de cartes cibles piochées</th>\n",
       "      <th></th>\n",
       "      <th></th>\n",
       "    </tr>\n",
       "  </thead>\n",
       "  <tbody>\n",
       "    <tr>\n",
       "      <th>0</th>\n",
       "      <td>1.9</td>\n",
       "      <td>1.9</td>\n",
       "    </tr>\n",
       "    <tr>\n",
       "      <th>1</th>\n",
       "      <td>10.6</td>\n",
       "      <td>12.5</td>\n",
       "    </tr>\n",
       "    <tr>\n",
       "      <th>2</th>\n",
       "      <td>24.6</td>\n",
       "      <td>37.1</td>\n",
       "    </tr>\n",
       "    <tr>\n",
       "      <th>3</th>\n",
       "      <td>30.4</td>\n",
       "      <td>67.6</td>\n",
       "    </tr>\n",
       "    <tr>\n",
       "      <th>4</th>\n",
       "      <td>21.6</td>\n",
       "      <td>89.1</td>\n",
       "    </tr>\n",
       "    <tr>\n",
       "      <th>5</th>\n",
       "      <td>8.8</td>\n",
       "      <td>97.9</td>\n",
       "    </tr>\n",
       "    <tr>\n",
       "      <th>6</th>\n",
       "      <td>1.9</td>\n",
       "      <td>99.8</td>\n",
       "    </tr>\n",
       "    <tr>\n",
       "      <th>7</th>\n",
       "      <td>0.2</td>\n",
       "      <td>100.0</td>\n",
       "    </tr>\n",
       "  </tbody>\n",
       "</table>\n",
       "</div>"
      ],
      "text/plain": [
       "                                  Probabilité de piocher exacteemnt ce nombre  \\\n",
       "Nombre de cartes cibles piochées                                                \n",
       "0                                                                         1.9   \n",
       "1                                                                        10.6   \n",
       "2                                                                        24.6   \n",
       "3                                                                        30.4   \n",
       "4                                                                        21.6   \n",
       "5                                                                         8.8   \n",
       "6                                                                         1.9   \n",
       "7                                                                         0.2   \n",
       "\n",
       "                                  Probabilité de piocher au moins ce nombre  \n",
       "Nombre de cartes cibles piochées                                             \n",
       "0                                                                       1.9  \n",
       "1                                                                      12.5  \n",
       "2                                                                      37.1  \n",
       "3                                                                      67.6  \n",
       "4                                                                      89.1  \n",
       "5                                                                      97.9  \n",
       "6                                                                      99.8  \n",
       "7                                                                     100.0  "
      ]
     },
     "execution_count": 13,
     "metadata": {},
     "output_type": "execute_result"
    }
   ],
   "source": [
    "pd.DataFrame(hypergeom_dict).set_index('Nombre de cartes cibles piochées').apply(lambda x: round(100*x,1))"
   ]
  }
 ],
 "metadata": {
  "kernelspec": {
   "display_name": "Python 3",
   "language": "python",
   "name": "python3"
  },
  "language_info": {
   "codemirror_mode": {
    "name": "ipython",
    "version": 3
   },
   "file_extension": ".py",
   "mimetype": "text/x-python",
   "name": "python",
   "nbconvert_exporter": "python",
   "pygments_lexer": "ipython3",
   "version": "3.10.6"
  },
  "orig_nbformat": 4,
  "vscode": {
   "interpreter": {
    "hash": "79956488f5b85b3e124e2e76162f2dd546af42843d9be7c199947b0ae48c2851"
   }
  }
 },
 "nbformat": 4,
 "nbformat_minor": 2
}
